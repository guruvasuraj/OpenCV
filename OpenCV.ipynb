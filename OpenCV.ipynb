{
 "cells": [
  {
   "cell_type": "code",
   "execution_count": null,
   "metadata": {
    "collapsed": false
   },
   "outputs": [],
   "source": [
    "import cv2\n",
    "import numpy as np\n",
    "from matplotlib import pyplot as plt\n",
    "%matplotlib inline"
   ]
  },
  {
   "cell_type": "code",
   "execution_count": null,
   "metadata": {
    "collapsed": true
   },
   "outputs": [],
   "source": [
    "img = cv2.imread(\"C:/Users/Guru/Desktop/download.jpg\",-1)"
   ]
  },
  {
   "cell_type": "code",
   "execution_count": null,
   "metadata": {
    "collapsed": false
   },
   "outputs": [],
   "source": [
    "cv2.imshow('Image',img)\n",
    "cv2.waitKey(0)\n",
    "cv2.destroyAllWindows()"
   ]
  },
  {
   "cell_type": "code",
   "execution_count": null,
   "metadata": {
    "collapsed": false
   },
   "outputs": [],
   "source": [
    "img1 = cv2.imread(\"C:/Users/Guru/Desktop/download.jpg\",-1)\n",
    "cv2.imshow('Image',img1)\n",
    "key = cv2.waitKey(0)\n",
    "if key == 27:\n",
    "    cv2.destroyWindow('Image')\n",
    "elif key == ord('s'):\n",
    "    print ord('s')\n",
    "    cv2.imwrite('Beckham.jpg',img1)\n",
    "    cv2.destroyWindow('Image')"
   ]
  },
  {
   "cell_type": "code",
   "execution_count": null,
   "metadata": {
    "collapsed": false
   },
   "outputs": [],
   "source": [
    "img1 = cv2.imread(\"C:/Users/Guru/Desktop/download.jpg\",-1)\n",
    "plt.imshow(img1,cmap='gray',interpolation='bicubic')\n",
    "plt.xticks([]),plt.yticks([])\n",
    "plt.show()"
   ]
  },
  {
   "cell_type": "code",
   "execution_count": null,
   "metadata": {
    "collapsed": false
   },
   "outputs": [],
   "source": [
    "print np.shape(img1)\n",
    "some = img1[70:170,200:250] \n",
    "img1[10:110,100:150] = some\n",
    "cv2.imshow(\"Img1\",img1)\n",
    "cv2.waitKey(0)\n",
    "cv2.destroyAllWindows()"
   ]
  },
  {
   "cell_type": "code",
   "execution_count": null,
   "metadata": {
    "collapsed": false
   },
   "outputs": [],
   "source": [
    "img2=img1[...,::-1]\n",
    "b,g,r=cv2.split(img1)\n",
    "img3=cv2.merge([r,g,b])\n",
    "plt.subplot(121);plt.imshow(img1,'gray') # expects distorted color\n",
    "plt.subplot(122);plt.imshow(img3,'gray') # expect true color\n",
    "plt.show()\n",
    "cv2.imshow(\"Image2\",img2)\n",
    "cv2.waitKey(0)\n",
    "cv2.destroyAllWindows()"
   ]
  },
  {
   "cell_type": "code",
   "execution_count": null,
   "metadata": {
    "collapsed": false
   },
   "outputs": [],
   "source": [
    "cap = cv2.VideoCapture('C:/Users/Guru/Downloads/SampleVideo_360x240_30mb.mp4')\n",
    "print cap.isOpened()\n",
    "while(cap.isOpened()):\n",
    "    ret, frame = cap.read()\n",
    "    print ret\n",
    "    gray = cv2.cvtColor(frame, cv2.COLOR_BGR2GRAY)\n",
    "    cv2.imshow('frame',gray)\n",
    "    if cv2.waitKey(1) & 0xFF == ord('q'):\n",
    "        break\n",
    "cap.release()\n",
    "cv2.destroyAllWindows()"
   ]
  },
  {
   "cell_type": "code",
   "execution_count": null,
   "metadata": {
    "collapsed": false
   },
   "outputs": [],
   "source": [
    ">>> import cv2\n",
    ">>> events = [i for i in dir(cv2) if 'EVENT' in i]\n",
    ">>> print events"
   ]
  },
  {
   "cell_type": "code",
   "execution_count": null,
   "metadata": {
    "collapsed": false
   },
   "outputs": [],
   "source": [
    "python_course_green = \"#476042\"\n",
    "plt.figure(figsize=(6, 4))\n",
    "\n",
    "plt.subplot(121) # equivalent to: plt.subplot(2, 2, 1)\n",
    "plt.text(0.5, # x coordinate, 0 leftmost positioned, 1 rightmost\n",
    "         0.5, # y coordinate, 0 topmost positioned, 1 bottommost\n",
    "         'subplot(2,2,1)', # the text which will be printed\n",
    "         horizontalalignment='center', # shortcut 'ha' \n",
    "         verticalalignment='center', # shortcut 'va'\n",
    "         fontsize=20, # can be named 'font' as well\n",
    "         alpha=.5 # float (0.0 transparent through 1.0 opaque)\n",
    "         )\n",
    "plt.subplot(122, axisbg=python_course_green)\n",
    "plt.text(0.5, 0.5, \n",
    "         'subplot(2,2,3)', \n",
    "         ha='center', va='center',\n",
    "         fontsize=20, \n",
    "         color=\"y\")"
   ]
  },
  {
   "cell_type": "code",
   "execution_count": null,
   "metadata": {
    "collapsed": false
   },
   "outputs": [],
   "source": [
    "# Load two images\n",
    "img2 = cv2.imread('C:/Users/Guru/Desktop/download.jpg')\n",
    "img1 = cv2.imread(\"C:/Users/Guru/Desktop/logo.jpg\")\n",
    "\n",
    "# I want to put logo on top-left corner, So I create a ROI\n",
    "rows,cols,channels = img2.shape\n",
    "roi = img1[0:rows, 0:cols ]\n",
    "\n",
    "# Now create a mask of logo and create its inverse mask also\n",
    "img2gray = cv2.cvtColor(img2,cv2.COLOR_BGR2GRAY)\n",
    "cv2.imshow(\"Gray\",img2gray)\n",
    "cv2.waitKey(0)\n",
    "cv2.destroyAllWindows()\n",
    "ret, mask = cv2.threshold(img2gray, 175, 255, cv2.THRESH_BINARY)\n",
    "cv2.imshow(\"MAsk\",mask)\n",
    "cv2.waitKey(0)\n",
    "cv2.destroyAllWindows()\n",
    "mask_inv = cv2.bitwise_not(mask)\n",
    "cv2.imshow(\"MAskinv\",mask_inv)\n",
    "cv2.waitKey(0)\n",
    "cv2.destroyAllWindows()\n",
    "\n",
    "# Now black-out the area of logo in ROI\n",
    "img1_bg = cv2.bitwise_and(roi,roi,mask = mask_inv)\n",
    "cv2.imshow(\"bg\",img1_bg)\n",
    "cv2.waitKey(0)\n",
    "cv2.destroyAllWindows()\n",
    "# Take only region of logo from logo image.\n",
    "img2_fg = cv2.bitwise_and(img2,img2,mask = mask)\n",
    "cv2.imshow(\"Gray\",img2_fg)\n",
    "cv2.waitKey(0)\n",
    "cv2.destroyAllWindows()\n",
    "# Put logo in ROI and modify the main image\n",
    "dst = cv2.add(img1_bg,img2_fg)\n",
    "img1[0:rows, 0:cols ] = dst\n",
    "\n",
    "cv2.imshow('res',img1)\n",
    "cv2.waitKey(0)\n",
    "cv2.destroyAllWindows()"
   ]
  },
  {
   "cell_type": "code",
   "execution_count": null,
   "metadata": {
    "collapsed": false
   },
   "outputs": [],
   "source": [
    ">>> import cv2\n",
    ">>> flags = [i for i in dir(cv2) if i.startswith('COLOR_')]\n",
    ">>> print flags"
   ]
  },
  {
   "cell_type": "code",
   "execution_count": null,
   "metadata": {
    "collapsed": false
   },
   "outputs": [],
   "source": [
    "img4 = cv2.imread(\"C:/Users/Guru/Desktop/logo.jpg\")\n",
    "rows,cols,ch = img4.shape\n",
    "\n",
    "pts1 = np.float32([[50,50],[200,50],[50,200]])\n",
    "pts2 = np.float32([[10,100],[200,50],[10,250]])\n",
    "\n",
    "M = cv2.getAffineTransform(pts1,pts2)\n",
    "\n",
    "dst = cv2.warpAffine(img4,M,(cols,rows))\n",
    "\n",
    "plt.subplot(121),plt.imshow(img4),plt.title('Input')\n",
    "plt.subplot(122),plt.imshow(dst),plt.title('Output')\n",
    "plt.show()\n",
    "\n",
    "\"\"\" M = np.float32([[1,0,400],[0,1,50]])\n",
    "dst = cv2.warpAffine(img4,M,(cols,rows))\n",
    "cv2.imshow('img',dst)\n",
    "cv2.waitKey(0)\n",
    "cv2.destroyAllWindows()\n",
    "M1 = cv2.getRotationMatrix2D((cols/2,rows/2),90,1)\n",
    "dst1 = cv2.warpAffine(img4,M1,(cols,rows))\n",
    "cv2.imshow('res',dst1)\n",
    "cv2.waitKey(0)\n",
    "cv2.destroyAllWindows()\n",
    "res = cv2.resize(img4,None,fx=1.5, fy=1.5, interpolation = cv2.INTER_CUBIC)\n",
    "cv2.imshow('res',res)\n",
    "cv2.waitKey(0)\n",
    "cv2.destroyAllWindows()\n",
    "\n",
    "\"\"\"\n"
   ]
  },
  {
   "cell_type": "code",
   "execution_count": null,
   "metadata": {
    "collapsed": false
   },
   "outputs": [],
   "source": [
    "img5 = cv2.imread('C:/Users/Guru/Desktop/logo.jpg')\n",
    "rows,cols,ch = img.shape\n",
    "\n",
    "pts1 = np.float32([[56,65],[368,52],[28,387],[389,390]])\n",
    "pts2 = np.float32([[0,0],[300,0],[0,300],[300,300]])\n",
    "\n",
    "M = cv2.getPerspectiveTransform(pts1,pts2)\n",
    "\n",
    "dst = cv2.warpPerspective(img5,M,(300,300))\n",
    "\n",
    "plt.subplot(121),plt.imshow(img5),plt.title('Input')\n",
    "plt.subplot(122),plt.imshow(dst),plt.title('Output')\n",
    "plt.show()"
   ]
  },
  {
   "cell_type": "code",
   "execution_count": null,
   "metadata": {
    "collapsed": false
   },
   "outputs": [],
   "source": [
    "img6 = cv2.imread('C:/Users/Guru/Desktop/logo.jpg')\n",
    "rows,cols,ch = img6.shape\n",
    "\n",
    "hsv = cv2.cvtColor(img6, cv2.COLOR_BGR2HSV)\n",
    "lower_blue = np.array([110,50,50])\n",
    "upper_blue = np.array([130,255,255])\n",
    "\n",
    "# Threshold the HSV image to get only blue colors\n",
    "mask = cv2.inRange(hsv, lower_blue, upper_blue)\n",
    "\n",
    "# Bitwise-AND mask and original image\n",
    "res = cv2.bitwise_and(img6,img6, mask= mask)\n",
    "\n",
    "cv2.imshow('frame',img6)\n",
    "cv2.imshow('mask',mask)\n",
    "cv2.imshow('res',res)\n",
    "cv2.waitKey(0)\n",
    "\n",
    "\n",
    "cv2.destroyAllWindows()"
   ]
  },
  {
   "cell_type": "code",
   "execution_count": null,
   "metadata": {
    "collapsed": false
   },
   "outputs": [],
   "source": [
    "img7 = cv2.imread('C:/Users/Guru/Desktop/logo.jpg')\n",
    "\n",
    "kernel = np.ones((5,5),np.float32)/25\n",
    "dst = cv2.filter2D(img7,5,kernel)\n",
    "\n",
    "plt.subplot(121),plt.imshow(img7),plt.title('Original')\n",
    "plt.xticks([]), plt.yticks([])\n",
    "plt.subplot(122),plt.imshow(dst),plt.title('Averaging')\n",
    "plt.xticks([]), plt.yticks([])\n",
    "plt.show()"
   ]
  },
  {
   "cell_type": "code",
   "execution_count": null,
   "metadata": {
    "collapsed": false
   },
   "outputs": [],
   "source": [
    "blur = cv2.blur(img7,(5,5))\n",
    "\n",
    "plt.subplot(121),plt.imshow(img7),plt.title('Original')\n",
    "plt.xticks([]), plt.yticks([])\n",
    "plt.subplot(122),plt.imshow(blur),plt.title('Blurred')\n",
    "plt.xticks([]), plt.yticks([])\n",
    "plt.show()"
   ]
  },
  {
   "cell_type": "code",
   "execution_count": null,
   "metadata": {
    "collapsed": false
   },
   "outputs": [],
   "source": [
    "\n",
    "img8 = cv2.imread('C:/Users/Guru/Desktop/logo.jpg',0)\n",
    "\n",
    "laplacian = cv2.Laplacian(img8,cv2.CV_64F)\n",
    "sobelx = cv2.Sobel(img8,cv2.CV_64F,1,0,ksize=9)\n",
    "sobely = cv2.Sobel(img8,cv2.CV_64F,0,1,ksize=5)\n",
    "\n",
    "plt.subplot(2,2,1),plt.imshow(img8,cmap = 'gray')\n",
    "plt.title('Original'), plt.xticks([]), plt.yticks([])\n",
    "plt.subplot(2,2,2),plt.imshow(laplacian,cmap = 'gray')\n",
    "plt.title('Laplacian'), plt.xticks([]), plt.yticks([])\n",
    "plt.subplot(2,2,3),plt.imshow(sobelx,cmap = 'gray')\n",
    "plt.title('Sobel X'), plt.xticks([]), plt.yticks([])\n",
    "plt.subplot(2,2,4),plt.imshow(sobely,cmap = 'gray')\n",
    "plt.title('Sobel Y'), plt.xticks([]), plt.yticks([])\n",
    "\n",
    "plt.show()"
   ]
  },
  {
   "cell_type": "code",
   "execution_count": null,
   "metadata": {
    "collapsed": false
   },
   "outputs": [],
   "source": [
    "\n",
    "img9= cv2.imread('C:/Users/Guru/Desktop/logo.jpg',0)\n",
    "edges = cv2.Canny(img9,30,100)\n",
    "\n",
    "plt.subplot(121),plt.imshow(img9,cmap = 'gray')\n",
    "plt.title('Original Image'), plt.xticks([]), plt.yticks([])\n",
    "plt.subplot(122),plt.imshow(edges,cmap = 'gray')\n",
    "plt.title('Edge Image'), plt.xticks([]), plt.yticks([])"
   ]
  },
  {
   "cell_type": "code",
   "execution_count": null,
   "metadata": {
    "collapsed": false
   },
   "outputs": [],
   "source": [
    "\n",
    "A = cv2.imread('C:/Users/Guru/Desktop/apple.jpg')\n",
    "B = cv2.imread('C:/Users/Guru/Desktop/orange.jpg')\n",
    "# generate Gaussian pyramid for A\n",
    "G = A.copy()\n",
    "\n",
    "gpA = [G]\n",
    "for i in xrange(6):\n",
    "    G = cv2.pyrDown(G)\n",
    "    gpA.append(G)\n",
    "\n",
    "# generate Gaussian pyramid for B\n",
    "G = B.copy()\n",
    "gpB = [G]\n",
    "for i in xrange(6):\n",
    "    G = cv2.pyrDown(G)\n",
    "    gpB.append(G)\n",
    "print gpA[5-1].shape\n",
    "# generate Laplacian Pyramid for A\n",
    "print gpA[0].shape\n",
    "lpA = [gpA[5]]\n",
    "for i in xrange(5,0,-1):\n",
    "    print gpA[i].shape\n",
    "    GE = cv2.pyrUp(gpA[i+1])\n",
    "    print GE.shape\n",
    "    print gpA[i]-GE\n",
    "    L = cv2.subtract(gpA[i],GE)\n",
    "    lpA.append(L)\n",
    "# generate Laplacian Pyramid for B\n",
    "lpB = [gpB[5]]\n",
    "for i in xrange(5,0,-1):\n",
    "    GE = cv2.pyrUp(gpB[i])\n",
    "    L = cv2.subtract(np.array(gpB[i-1]),GE)\n",
    "    lpB.append(L)\n",
    "\n",
    "# Now add left and right halves of images in each level\n",
    "LS = []\n",
    "for la,lb in zip(lpA,lpB):\n",
    "    rows,cols,dpt = la.shape\n",
    "    ls = np.hstack((la[:,0:cols/2], lb[:,cols/2:]))\n",
    "    LS.append(ls)\n",
    "\n",
    "# now reconstruct\n",
    "ls_ = LS[0]\n",
    "for i in xrange(1,6):\n",
    "    ls_ = cv2.pyrUp(ls_)\n",
    "    ls_ = cv2.add(ls_, LS[i])\n",
    "\n",
    "# image with direct connecting each half\n",
    "real = np.hstack((A[:,:cols/2],B[:,cols/2:]))\n",
    "\n",
    "cv2.imwrite('Pyramid_blending2.jpg',ls_)\n",
    "cv2.imwrite('Direct_blending.jpg',real)"
   ]
  },
  {
   "cell_type": "code",
   "execution_count": 10,
   "metadata": {
    "collapsed": false
   },
   "outputs": [
    {
     "name": "stdout",
     "output_type": "stream",
     "text": [
      "(230L, 219L)\n",
      "219 230\n",
      "(125L, 125L)\n",
      "(125L, 125L)\n"
     ]
    }
   ],
   "source": [
    "A = cv2.imread('C:/Users/Guru/Desktop/apple.jpg',0)\n",
    "B = cv2.imread('C:/Users/Guru/Desktop/orange.jpg',0)\n",
    "row,col = A.shape\n",
    "print B.shape\n",
    "w,h=B.shape[::-1]\n",
    "print w,h\n",
    "print A.shape\n",
    "C= B[:125,:125]\n",
    "print C.shape\n",
    "row1,col1 = C.shape\n",
    "real = np.hstack((A[:,:col/2],C[:,col1/2-50:]))\n",
    "cv2.imshow(\"Dir\",real)\n",
    "cv2.waitKey(0)\n",
    "cv2.destroyAllWindows()"
   ]
  },
  {
   "cell_type": "code",
   "execution_count": 28,
   "metadata": {
    "collapsed": false
   },
   "outputs": [
    {
     "name": "stdout",
     "output_type": "stream",
     "text": [
      "[[[ 0  1  2]\n",
      "  [ 3  4  5]\n",
      "  [ 6  7  8]]\n",
      "\n",
      " [[ 9 10 11]\n",
      "  [12 13 14]\n",
      "  [15 16 17]]\n",
      "\n",
      " [[18 19 20]\n",
      "  [21 22 23]\n",
      "  [24 25 26]]]\n",
      "(1, 2, 1)\n",
      "16\n",
      "(2, 2, 1)\n",
      "25\n",
      "(0, 0, 2)\n",
      "2\n",
      "(1, 0, 2)\n",
      "11\n",
      "(2, 0, 2)\n",
      "20\n",
      "(0, 1, 2)\n",
      "5\n",
      "(1, 1, 2)\n",
      "14\n",
      "(2, 1, 2)\n",
      "23\n",
      "(0, 2, 2)\n",
      "8\n",
      "(1, 2, 2)\n",
      "17\n",
      "(2, 2, 2)\n",
      "26\n"
     ]
    }
   ],
   "source": [
    "x=np.arange(27).reshape(3,3,3)\n",
    "print x\n",
    "loc= np.where(x>15)\n",
    "for z in zip(*loc[::-1]):\n",
    "    print z\n",
    "    print x[z]"
   ]
  },
  {
   "cell_type": "code",
   "execution_count": null,
   "metadata": {
    "collapsed": false
   },
   "outputs": [],
   "source": [
    "import pip\n",
    "sorted([\"%s==%s\" % (i.key, i.version) for i in pip.get_installed_distributions()])"
   ]
  },
  {
   "cell_type": "code",
   "execution_count": 13,
   "metadata": {
    "collapsed": false
   },
   "outputs": [
    {
     "name": "stdout",
     "output_type": "stream",
     "text": [
      "0 1\n",
      "1 2\n",
      "2 3\n",
      "3 4\n",
      "1 5\n",
      "2 6\n",
      "3 7\n",
      "4 8\n"
     ]
    }
   ],
   "source": [
    "c= [1,2,3,4]\n",
    "d=[5,6,7,8]\n",
    "for i,j in enumerate(c):\n",
    "    print i,j\n",
    "for v,w in zip(c,d):\n",
    "    print v,w"
   ]
  },
  {
   "cell_type": "code",
   "execution_count": 23,
   "metadata": {
    "collapsed": false
   },
   "outputs": [
    {
     "data": {
      "image/png": "[encoded data removed]",
      "text/plain": [
       "<matplotlib.figure.Figure at 0x79caf60>"
      ]
     },
     "metadata": {},
     "output_type": "display_data"
    }
   ],
   "source": [
    "import numpy as np\n",
    "import math\n",
    "import matplotlib.pyplot as plt\n",
    "%matplotlib inline\n",
    "from scipy.stats import norm\n",
    " \n",
    "#Define Variables\n",
    "T = 250 #Number of trading days (we also run at 1000 for the purposes of comparison).\n",
    "mu = 0.09 #Return\n",
    "vol = 0.3 #Volatility\n",
    " \n",
    "daily_returns=np.random.normal(mu/T,vol/math.sqrt(T),T)+1\n",
    " \n",
    "price_list = [200]\n",
    "for x in daily_returns:\n",
    "    price_list.append(price_list[-1]*x)\n",
    " \n",
    "#Generate Plots\n",
    "plt.plot(price_list)\n",
    "#plt.hist(daily_returns-1, 100) #Note that we run the line plot and histogram separately, not simultaneously.\n",
    "plt.show()"
   ]
  },
  {
   "cell_type": "code",
   "execution_count": null,
   "metadata": {
    "collapsed": true
   },
   "outputs": [],
   "source": [
    "start = numpy.random.randint(0, 25)\n",
    "print start"
   ]
  },
  {
   "cell_type": "code",
   "execution_count": null,
   "metadata": {
    "collapsed": true
   },
   "outputs": [],
   "source": [
    "print \"\\\"\", ''.join([int_to_char[value] for value in pattern]), \"\\\"\""
   ]
  },
  {
   "cell_type": "code",
   "execution_count": null,
   "metadata": {
    "collapsed": true
   },
   "outputs": [],
   "source": []
  }
 ],
 "metadata": {
  "anaconda-cloud": {},
  "kernelspec": {
   "display_name": "Python [default]",
   "language": "python",
   "name": "python2"
  },
  "language_info": {
   "codemirror_mode": {
    "name": "ipython",
    "version": 2
   },
   "file_extension": ".py",
   "mimetype": "text/x-python",
   "name": "python",
   "nbconvert_exporter": "python",
   "pygments_lexer": "ipython2",
   "version": "2.7.12"
  }
 },
 "nbformat": 4,
 "nbformat_minor": 1
}
